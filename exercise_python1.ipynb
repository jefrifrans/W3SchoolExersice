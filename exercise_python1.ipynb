{
 "cells": [
  {
   "cell_type": "markdown",
   "id": "atlantic-franchise",
   "metadata": {},
   "source": [
    "# python Operators"
   ]
  },
  {
   "cell_type": "code",
   "execution_count": 1,
   "id": "computational-nowhere",
   "metadata": {},
   "outputs": [
    {
     "name": "stdout",
     "output_type": "stream",
     "text": [
      "50\n"
     ]
    }
   ],
   "source": [
    "#1 Multiply 10 with 5, and print the result.\n",
    "print(10 * 5)"
   ]
  },
  {
   "cell_type": "code",
   "execution_count": 2,
   "id": "ideal-lease",
   "metadata": {},
   "outputs": [
    {
     "name": "stdout",
     "output_type": "stream",
     "text": [
      "5.0\n"
     ]
    }
   ],
   "source": [
    "#2 Divide 10 by 2, and print the result\n",
    "print(10/2)"
   ]
  },
  {
   "cell_type": "code",
   "execution_count": 3,
   "id": "known-funds",
   "metadata": {},
   "outputs": [
    {
     "name": "stdout",
     "output_type": "stream",
     "text": [
      "Yes, Apple is fruits\n"
     ]
    }
   ],
   "source": [
    "#3 Use the correct membership operator to check if \"apple\" is present in the fruits object\n",
    "fruits = [\"apple\", \"Banana\"]\n",
    "if \"apple\" in fruits:\n",
    "    print(\"Yes, Apple is fruits\")"
   ]
  },
  {
   "cell_type": "code",
   "execution_count": 4,
   "id": "green-steps",
   "metadata": {},
   "outputs": [
    {
     "name": "stdout",
     "output_type": "stream",
     "text": [
      "5 is not equal 10\n"
     ]
    }
   ],
   "source": [
    "#4 Use the correct comparison operator to check if 5 is not equal to 10.\n",
    "if 5 != 10:\n",
    "    print(\"5 is not equal 10\")"
   ]
  },
  {
   "cell_type": "code",
   "execution_count": 5,
   "id": "afraid-dynamics",
   "metadata": {},
   "outputs": [
    {
     "name": "stdout",
     "output_type": "stream",
     "text": [
      "At least one of the statemens is true\n"
     ]
    }
   ],
   "source": [
    "#5 Use the correct logical operator to check if at least one of two statements is True.\n",
    "if 5 == 10 or 4 == 4:\n",
    "    print(\"At least one of the statemens is true\")"
   ]
  },
  {
   "cell_type": "markdown",
   "id": "graphic-protocol",
   "metadata": {},
   "source": [
    "# Python List"
   ]
  },
  {
   "cell_type": "code",
   "execution_count": 6,
   "id": "suspected-simpson",
   "metadata": {},
   "outputs": [
    {
     "name": "stdout",
     "output_type": "stream",
     "text": [
      "banana\n"
     ]
    }
   ],
   "source": [
    "#1 Print the second item in the fruits list.\n",
    "fruits=[\"apple\", \"banana\", \"cherry\"]\n",
    "print(fruits[1])"
   ]
  },
  {
   "cell_type": "code",
   "execution_count": 10,
   "id": "chief-genre",
   "metadata": {},
   "outputs": [
    {
     "data": {
      "text/plain": [
       "['kiwi', 'banana', 'cherry']"
      ]
     },
     "execution_count": 10,
     "metadata": {},
     "output_type": "execute_result"
    }
   ],
   "source": [
    "#2 Change the value from \"apple\" to \"kiwi\", in the fruits list.\n",
    "fruits=[\"apple\", \"banana\", \"cherry\"]\n",
    "fruits[0]=\"kiwi\"\n",
    "fruits"
   ]
  },
  {
   "cell_type": "code",
   "execution_count": 9,
   "id": "governing-island",
   "metadata": {},
   "outputs": [
    {
     "data": {
      "text/plain": [
       "['apple', 'banana', 'cherry', 'orange']"
      ]
     },
     "execution_count": 9,
     "metadata": {},
     "output_type": "execute_result"
    }
   ],
   "source": [
    "#3 Use the append method to add \"orange\" to the fruits list.\n",
    "fruits = [\"apple\", \"banana\", \"cherry\"]\n",
    "fruits.append(\"orange\")\n",
    "fruits"
   ]
  },
  {
   "cell_type": "code",
   "execution_count": 11,
   "id": "demanding-salem",
   "metadata": {},
   "outputs": [
    {
     "data": {
      "text/plain": [
       "['apple', 'Lemon', 'banana', 'cherry']"
      ]
     },
     "execution_count": 11,
     "metadata": {},
     "output_type": "execute_result"
    }
   ],
   "source": [
    "#4 Use the insert method to add \"lemon\" as the second item in the fruits list.\n",
    "fruits = [\"apple\", \"banana\", \"cherry\"]\n",
    "fruits.insert(1,\"Lemon\")\n",
    "fruits"
   ]
  },
  {
   "cell_type": "code",
   "execution_count": 12,
   "id": "mexican-abuse",
   "metadata": {},
   "outputs": [
    {
     "data": {
      "text/plain": [
       "['apple', 'cherry']"
      ]
     },
     "execution_count": 12,
     "metadata": {},
     "output_type": "execute_result"
    }
   ],
   "source": [
    "#5 Use the remove method to remove \"banana\" from the fruits list.\n",
    "fruits = [\"apple\", \"banana\", \"cherry\"]\n",
    "fruits.remove(\"banana\")\n",
    "fruits"
   ]
  },
  {
   "cell_type": "code",
   "execution_count": 13,
   "id": "incomplete-journalist",
   "metadata": {},
   "outputs": [
    {
     "name": "stdout",
     "output_type": "stream",
     "text": [
      "cherry\n"
     ]
    }
   ],
   "source": [
    "#6 Use negative indexing to print the last item in the list.\n",
    "fruits = [\"apple\", \"banana\", \"cherry\"]\n",
    "print(fruits[-1])"
   ]
  },
  {
   "cell_type": "code",
   "execution_count": 14,
   "id": "adjusted-taylor",
   "metadata": {},
   "outputs": [
    {
     "name": "stdout",
     "output_type": "stream",
     "text": [
      "['cherry', 'orange', 'kiwi']\n"
     ]
    }
   ],
   "source": [
    "#7 Use a range of indexes to print the third, fourth, and fifth item in the list.\n",
    "fruits = [\"apple\", \"banana\", \"cherry\", \"orange\", \"kiwi\", \"melon\", \"manggo\"]\n",
    "print(fruits[2:5])"
   ]
  },
  {
   "cell_type": "code",
   "execution_count": 15,
   "id": "banned-alpha",
   "metadata": {},
   "outputs": [
    {
     "name": "stdout",
     "output_type": "stream",
     "text": [
      "3\n"
     ]
    }
   ],
   "source": [
    "#8 Use the correct syntax to print the number of items in the list.\n",
    "fruits = [\"apple\", \"banana\", \"cherry\"]\n",
    "print(len(fruits))"
   ]
  },
  {
   "cell_type": "markdown",
   "id": "dress-inspection",
   "metadata": {},
   "source": [
    "# Python Tuples"
   ]
  },
  {
   "cell_type": "code",
   "execution_count": 16,
   "id": "collective-walter",
   "metadata": {},
   "outputs": [
    {
     "name": "stdout",
     "output_type": "stream",
     "text": [
      "apple\n"
     ]
    }
   ],
   "source": [
    "#1 Use the correct syntax to print the first item in the fruits tuple.\n",
    "fruits = (\"apple\", \"banana\", \"cherry\")\n",
    "print(fruits[0])"
   ]
  },
  {
   "cell_type": "code",
   "execution_count": 17,
   "id": "second-homeless",
   "metadata": {},
   "outputs": [
    {
     "name": "stdout",
     "output_type": "stream",
     "text": [
      "3\n"
     ]
    }
   ],
   "source": [
    "#2 Use the correct syntax to print the number of items in the fruits tuple.\n",
    "fruits = (\"apple\", \"banana\", \"cherry\")\n",
    "print(len(fruits))"
   ]
  },
  {
   "cell_type": "code",
   "execution_count": 18,
   "id": "numerical-riverside",
   "metadata": {},
   "outputs": [
    {
     "name": "stdout",
     "output_type": "stream",
     "text": [
      "cherry\n"
     ]
    }
   ],
   "source": [
    "#3 Use negative indexing to print the last item in the tuple.\n",
    "fruits = (\"apple\", \"banana\", \"cherry\")\n",
    "print(fruits[-1])"
   ]
  },
  {
   "cell_type": "code",
   "execution_count": 19,
   "id": "biblical-barrel",
   "metadata": {},
   "outputs": [
    {
     "name": "stdout",
     "output_type": "stream",
     "text": [
      "('cherry', 'orange', 'kiwi')\n"
     ]
    }
   ],
   "source": [
    "#4 Use a range of indexes to print the third, fourth, and fifth item in the tuple.\n",
    "fruits = (\"apple\", \"banana\", \"cherry\", \"orange\", \"kiwi\", \"melon\", \"mango\")\n",
    "print(fruits[2:5])"
   ]
  },
  {
   "cell_type": "markdown",
   "id": "victorian-wallet",
   "metadata": {},
   "source": [
    "# Python Sets"
   ]
  },
  {
   "cell_type": "code",
   "execution_count": 21,
   "id": "extensive-immune",
   "metadata": {},
   "outputs": [
    {
     "name": "stdout",
     "output_type": "stream",
     "text": [
      "Yes, apple is fruits\n"
     ]
    }
   ],
   "source": [
    "#1 Check if \"apple\" is present in the fruits set.\n",
    "fruits = {\"apple\", \"banana\", \"cherry\"}\n",
    "if \"apple\" in fruits:\n",
    "    print(\"Yes, apple is fruits\")"
   ]
  },
  {
   "cell_type": "code",
   "execution_count": 23,
   "id": "modified-space",
   "metadata": {},
   "outputs": [
    {
     "data": {
      "text/plain": [
       "{'apple', 'banana', 'cherry', 'orange'}"
      ]
     },
     "execution_count": 23,
     "metadata": {},
     "output_type": "execute_result"
    }
   ],
   "source": [
    "#2 Use the add method to add \"orange\" to the fruits set.\n",
    "fruits = {\"apple\", \"banana\", \"cherry\"}\n",
    "fruits.add(\"orange\")\n",
    "fruits"
   ]
  },
  {
   "cell_type": "code",
   "execution_count": 24,
   "id": "clinical-incentive",
   "metadata": {},
   "outputs": [
    {
     "data": {
      "text/plain": [
       "{'apple', 'banana', 'cherry', 'grapes', 'manggo', 'orange'}"
      ]
     },
     "execution_count": 24,
     "metadata": {},
     "output_type": "execute_result"
    }
   ],
   "source": [
    "#3 Use the correct method to add multiple items (more_fruits) to the fruits set.\n",
    "fruits = {\"apple\", \"banana\", \"cherry\"}\n",
    "more_fruits = [\"orange\", \"manggo\", \"grapes\"]\n",
    "fruits.update(more_fruits)\n",
    "fruits"
   ]
  },
  {
   "cell_type": "code",
   "execution_count": 26,
   "id": "twenty-spouse",
   "metadata": {},
   "outputs": [
    {
     "data": {
      "text/plain": [
       "{'apple', 'cherry'}"
      ]
     },
     "execution_count": 26,
     "metadata": {},
     "output_type": "execute_result"
    }
   ],
   "source": [
    "#4 Use the remove method to remove \"banana\" from the fruits set.\n",
    "fruits = {\"apple\", \"banana\", \"cherry\"}\n",
    "fruits.remove(\"banana\")\n",
    "fruits"
   ]
  },
  {
   "cell_type": "code",
   "execution_count": 27,
   "id": "unknown-client",
   "metadata": {},
   "outputs": [
    {
     "data": {
      "text/plain": [
       "{'apple', 'cherry'}"
      ]
     },
     "execution_count": 27,
     "metadata": {},
     "output_type": "execute_result"
    }
   ],
   "source": [
    "#5 Use the discard method to remove \"banana\" from the fruits set.\n",
    "fruits = {\"apple\", \"banana\", \"cherry\"}\n",
    "fruits.discard(\"banana\")\n",
    "fruits"
   ]
  },
  {
   "cell_type": "markdown",
   "id": "helpful-republican",
   "metadata": {},
   "source": [
    "# Python Dictionaries"
   ]
  },
  {
   "cell_type": "code",
   "execution_count": 30,
   "id": "arabic-intensity",
   "metadata": {},
   "outputs": [
    {
     "name": "stdout",
     "output_type": "stream",
     "text": [
      "Mustang\n"
     ]
    }
   ],
   "source": [
    "#1 Use the get method to print the value of the \"model\" key of the car dictionary.\n",
    "car = {\n",
    "  \"brand\": \"Ford\",\n",
    "  \"model\": \"Mustang\",\n",
    "  \"year\": 1964\n",
    "}\n",
    "print(car.get(\"model\"))"
   ]
  },
  {
   "cell_type": "code",
   "execution_count": 31,
   "id": "common-vitamin",
   "metadata": {},
   "outputs": [],
   "source": [
    "#2 Change the \"year\" value from 1964 to 2020.\n",
    "car[\"year\"]=2020"
   ]
  },
  {
   "cell_type": "code",
   "execution_count": 32,
   "id": "marine-adapter",
   "metadata": {},
   "outputs": [],
   "source": [
    "#3 Add the key/value pair \"color\" : \"red\" to the car dictionary.\n",
    "car[\"color\"] =  \"red\""
   ]
  },
  {
   "cell_type": "code",
   "execution_count": 34,
   "id": "looking-annual",
   "metadata": {},
   "outputs": [
    {
     "data": {
      "text/plain": [
       "'Mustang'"
      ]
     },
     "execution_count": 34,
     "metadata": {},
     "output_type": "execute_result"
    }
   ],
   "source": [
    "#4 Use the pop method to remove \"model\" from the car dictionary.\n",
    "car.pop(\"model\")"
   ]
  },
  {
   "cell_type": "code",
   "execution_count": 35,
   "id": "constant-series",
   "metadata": {},
   "outputs": [],
   "source": [
    "#5 Use the clear method to empty the car dictionary.\n",
    "car.clear()"
   ]
  },
  {
   "cell_type": "markdown",
   "id": "revolutionary-number",
   "metadata": {},
   "source": [
    "# Python If....else"
   ]
  },
  {
   "cell_type": "code",
   "execution_count": 36,
   "id": "loved-vegetarian",
   "metadata": {},
   "outputs": [
    {
     "name": "stdout",
     "output_type": "stream",
     "text": [
      "Hello World\n"
     ]
    }
   ],
   "source": [
    "#1 Print \"Hello World\" if a is greater than b.\n",
    "a = 50\n",
    "b = 10\n",
    "if a > b:\n",
    "    print(\"Hello World\")"
   ]
  },
  {
   "cell_type": "code",
   "execution_count": 37,
   "id": "quick-amino",
   "metadata": {},
   "outputs": [
    {
     "name": "stdout",
     "output_type": "stream",
     "text": [
      "Hello World\n"
     ]
    }
   ],
   "source": [
    "#2 Print \"Hello World\" if a is not equal to b.\n",
    "if a != b:\n",
    "    print(\"Hello World\")"
   ]
  },
  {
   "cell_type": "code",
   "execution_count": 39,
   "id": "transparent-attraction",
   "metadata": {},
   "outputs": [
    {
     "name": "stdout",
     "output_type": "stream",
     "text": [
      "No\n"
     ]
    }
   ],
   "source": [
    "#3 Print \"Yes\" if a is equal to b, otherwise print \"No\".\n",
    "if a == b :\n",
    "    print(\"Yes\")\n",
    "else:\n",
    "    print(\"No\")"
   ]
  },
  {
   "cell_type": "code",
   "execution_count": 40,
   "id": "exceptional-foster",
   "metadata": {},
   "outputs": [
    {
     "name": "stdout",
     "output_type": "stream",
     "text": [
      "2\n"
     ]
    }
   ],
   "source": [
    "#4 Print \"1\" if a is equal to b, print \"2\" if a is greater than b, otherwise print \"3\".\n",
    "if a == b:\n",
    "    print(\"1\")\n",
    "elif a > b:\n",
    "    print(\"2\")\n",
    "else:\n",
    "    print(\"3\")"
   ]
  },
  {
   "cell_type": "code",
   "execution_count": 42,
   "id": "accessory-helen",
   "metadata": {},
   "outputs": [],
   "source": [
    "#5 Print \"Hello\" if a is equal to b, and c is equal to d.\n",
    "if a == b and c == d :\n",
    "    print(\"Hello\")"
   ]
  },
  {
   "cell_type": "code",
   "execution_count": 44,
   "id": "entitled-appearance",
   "metadata": {},
   "outputs": [
    {
     "name": "stdout",
     "output_type": "stream",
     "text": [
      "Hello\n"
     ]
    }
   ],
   "source": [
    "#6 Print \"Hello\" if a is equal to b, or if c is equal to d.\n",
    "c=0\n",
    "d=0\n",
    "if a == b or c == d:\n",
    "    print(\"Hello\")"
   ]
  },
  {
   "cell_type": "code",
   "execution_count": 45,
   "id": "forced-workshop",
   "metadata": {},
   "outputs": [
    {
     "name": "stdout",
     "output_type": "stream",
     "text": [
      "five greater than two\n"
     ]
    }
   ],
   "source": [
    "#7 This example misses indentations to be correct.\n",
    "#Insert the missing indentation to make the code correct:\n",
    "if 5 > 2:\n",
    "    print(\"five greater than two\")"
   ]
  },
  {
   "cell_type": "code",
   "execution_count": 46,
   "id": "controversial-pizza",
   "metadata": {},
   "outputs": [
    {
     "name": "stdout",
     "output_type": "stream",
     "text": [
      "five greater than two\n"
     ]
    }
   ],
   "source": [
    "#8 Use the correct short hand syntax to put the following statement on one line:\n",
    "if 5 > 2: print(\"five greater than two\")"
   ]
  },
  {
   "cell_type": "code",
   "execution_count": 47,
   "id": "hundred-asset",
   "metadata": {},
   "outputs": [
    {
     "name": "stdout",
     "output_type": "stream",
     "text": [
      "Yes\n"
     ]
    }
   ],
   "source": [
    "#9 Use the correct short hand syntax to write the following conditional expression in one line:\n",
    "print(\"Yes\") if 5 > 2 else print(\"No\")"
   ]
  },
  {
   "cell_type": "markdown",
   "id": "rolled-rocket",
   "metadata": {},
   "source": [
    "# Python While Loops"
   ]
  },
  {
   "cell_type": "code",
   "execution_count": 50,
   "id": "undefined-burton",
   "metadata": {},
   "outputs": [
    {
     "name": "stdout",
     "output_type": "stream",
     "text": [
      "1\n",
      "2\n",
      "3\n",
      "4\n",
      "5\n"
     ]
    }
   ],
   "source": [
    "#1 Print i as long as i is less than 6.\n",
    "i = 1\n",
    "while i < 6:\n",
    "    print(i)\n",
    "    i += 1"
   ]
  },
  {
   "cell_type": "code",
   "execution_count": 54,
   "id": "electoral-namibia",
   "metadata": {},
   "outputs": [
    {
     "name": "stdout",
     "output_type": "stream",
     "text": [
      "1\n",
      "2\n",
      "3\n"
     ]
    }
   ],
   "source": [
    "#2 Stop the loop if i is 3.\n",
    "i = 1\n",
    "while i < 6 :\n",
    "    print(i)\n",
    "    if i == 3:\n",
    "        break\n",
    "    i+=1"
   ]
  },
  {
   "cell_type": "code",
   "execution_count": 55,
   "id": "generous-notification",
   "metadata": {},
   "outputs": [
    {
     "name": "stdout",
     "output_type": "stream",
     "text": [
      "2\n",
      "4\n",
      "5\n",
      "6\n"
     ]
    }
   ],
   "source": [
    "#3 In the loop, when i is 3, jump directly to the next iteration.\n",
    "i = 1\n",
    "while i < 6 :\n",
    "    i += 1\n",
    "    if i == 3:\n",
    "        continue\n",
    "    print(i)"
   ]
  },
  {
   "cell_type": "code",
   "execution_count": 59,
   "id": "sought-tradition",
   "metadata": {},
   "outputs": [
    {
     "name": "stdout",
     "output_type": "stream",
     "text": [
      "1\n",
      "2\n",
      "3\n",
      "4\n",
      "5\n",
      "i is no longer less than 6\n"
     ]
    }
   ],
   "source": [
    "#4 Print a message once the condition is false.\n",
    "i = 1\n",
    "while i < 6 :\n",
    "    print(i)\n",
    "    i += 1\n",
    "else:\n",
    "    print(\"i is no longer less than 6\")"
   ]
  },
  {
   "cell_type": "markdown",
   "id": "experienced-society",
   "metadata": {},
   "source": [
    "# Python Loops"
   ]
  },
  {
   "cell_type": "code",
   "execution_count": 60,
   "id": "inside-private",
   "metadata": {},
   "outputs": [
    {
     "name": "stdout",
     "output_type": "stream",
     "text": [
      "apple\n",
      "banana\n",
      "cherry\n"
     ]
    }
   ],
   "source": [
    "#1 Loop through the items in the fruits list.\n",
    "fruits=[\"apple\", \"banana\", \"cherry\"]\n",
    "for x in fruits:\n",
    "    print(x)"
   ]
  },
  {
   "cell_type": "code",
   "execution_count": 62,
   "id": "artificial-integration",
   "metadata": {},
   "outputs": [
    {
     "name": "stdout",
     "output_type": "stream",
     "text": [
      "apple\n",
      "cherry\n"
     ]
    }
   ],
   "source": [
    "#2 In the loop, when the item value is \"banana\", jump directly to the next item.\n",
    "for x in fruits:\n",
    "    if x == \"banana\" :\n",
    "        continue\n",
    "    print(x)"
   ]
  },
  {
   "cell_type": "code",
   "execution_count": 63,
   "id": "italian-government",
   "metadata": {},
   "outputs": [
    {
     "name": "stdout",
     "output_type": "stream",
     "text": [
      "0\n",
      "1\n",
      "2\n",
      "3\n",
      "4\n",
      "5\n"
     ]
    }
   ],
   "source": [
    "#3 Use the range function to loop through a code set 6 times.\n",
    "for x in range(6):\n",
    "    print(x)"
   ]
  },
  {
   "cell_type": "code",
   "execution_count": 64,
   "id": "tired-municipality",
   "metadata": {},
   "outputs": [
    {
     "name": "stdout",
     "output_type": "stream",
     "text": [
      "apple\n"
     ]
    }
   ],
   "source": [
    "#4 Exit the loop when x is \"banana\".\n",
    "for x in fruits:\n",
    "    if x == \"banana\":\n",
    "        break\n",
    "    print(x)"
   ]
  },
  {
   "cell_type": "markdown",
   "id": "conventional-dodge",
   "metadata": {},
   "source": [
    "# Python Function"
   ]
  },
  {
   "cell_type": "code",
   "execution_count": 65,
   "id": "worth-turkey",
   "metadata": {},
   "outputs": [],
   "source": [
    "#1 Create a function named my_function.\n",
    "def my_function():\n",
    "    print(\"Hello My function\")"
   ]
  },
  {
   "cell_type": "code",
   "execution_count": 67,
   "id": "inside-environment",
   "metadata": {},
   "outputs": [
    {
     "name": "stdout",
     "output_type": "stream",
     "text": [
      "Hello My function\n"
     ]
    }
   ],
   "source": [
    "#2 Execute a function named my_function.\n",
    "my_function()"
   ]
  },
  {
   "cell_type": "code",
   "execution_count": 68,
   "id": "hairy-lucas",
   "metadata": {},
   "outputs": [],
   "source": [
    "#3 Inside a function with two parameters, print the first parameter.\n",
    "def my_funtion(fname, lname):\n",
    "    print(fname)"
   ]
  },
  {
   "cell_type": "code",
   "execution_count": 69,
   "id": "strategic-lemon",
   "metadata": {},
   "outputs": [],
   "source": [
    "#4 Let the function return the x parameter + 5.\n",
    "def my_funtion(x):\n",
    "    return x + 5"
   ]
  },
  {
   "cell_type": "code",
   "execution_count": 75,
   "id": "structured-surrey",
   "metadata": {},
   "outputs": [
    {
     "data": {
      "text/plain": [
       "9"
      ]
     },
     "execution_count": 75,
     "metadata": {},
     "output_type": "execute_result"
    }
   ],
   "source": [
    "#5 If you do not know the number of arguments that will be passed into your function, \n",
    "#there is a prefix you can add in the function definition, which prefix?\n",
    "def my_function(*kids):\n",
    "    print(\"The youngest child is \" + kids[2])\n",
    "my_funtion(4)"
   ]
  },
  {
   "cell_type": "code",
   "execution_count": 76,
   "id": "chicken-announcement",
   "metadata": {},
   "outputs": [],
   "source": [
    "#6 If you do not know the number of keyword arguments that will be passed into your function, \n",
    "#there is a prefix you can add in the function definition, which prefix?\n",
    "def my_myfunction(**kid):\n",
    "    print(\"His last name is\" + kid[\"lname\"])"
   ]
  },
  {
   "cell_type": "markdown",
   "id": "hindu-death",
   "metadata": {},
   "source": [
    "# Python lambda"
   ]
  },
  {
   "cell_type": "code",
   "execution_count": 77,
   "id": "exceptional-suspect",
   "metadata": {},
   "outputs": [],
   "source": [
    "#1 Create a lambda function that takes one parameter (a) and returns it.\n",
    "x = lambda a:a"
   ]
  },
  {
   "cell_type": "markdown",
   "id": "opponent-union",
   "metadata": {},
   "source": [
    "# Python Clases"
   ]
  },
  {
   "cell_type": "code",
   "execution_count": 78,
   "id": "liked-dependence",
   "metadata": {},
   "outputs": [],
   "source": [
    "#1 Create a class named MyClass:\n",
    "class MyClass:\n",
    "    x = 5"
   ]
  },
  {
   "cell_type": "code",
   "execution_count": 79,
   "id": "ambient-study",
   "metadata": {},
   "outputs": [],
   "source": [
    "#2 Create an object of MyClass called p1:\n",
    "class MyClass:\n",
    "    x=5\n",
    "p1=MyClass()"
   ]
  },
  {
   "cell_type": "code",
   "execution_count": 80,
   "id": "handy-renewal",
   "metadata": {},
   "outputs": [
    {
     "name": "stdout",
     "output_type": "stream",
     "text": [
      "5\n"
     ]
    }
   ],
   "source": [
    "#3 Use the p1 object to print the value of x:\n",
    "print(p1.x)"
   ]
  },
  {
   "cell_type": "code",
   "execution_count": 82,
   "id": "enclosed-colleague",
   "metadata": {},
   "outputs": [],
   "source": [
    "#4 class Person:\n",
    "def __init__(self, name, age):\n",
    "    self.name = name\n",
    "    self.age = age"
   ]
  },
  {
   "cell_type": "markdown",
   "id": "stopped-angel",
   "metadata": {},
   "source": [
    "# Python Inheritence"
   ]
  },
  {
   "cell_type": "code",
   "execution_count": 88,
   "id": "naked-traffic",
   "metadata": {},
   "outputs": [
    {
     "ename": "NameError",
     "evalue": "name 'Person' is not defined",
     "output_type": "error",
     "traceback": [
      "\u001b[1;31m---------------------------------------------------------------------------\u001b[0m",
      "\u001b[1;31mNameError\u001b[0m                                 Traceback (most recent call last)",
      "\u001b[1;32m<ipython-input-88-ce3c0e625155>\u001b[0m in \u001b[0;36m<module>\u001b[1;34m\u001b[0m\n\u001b[0;32m      1\u001b[0m \u001b[1;31m#1 What is the correct syntax to create a class named Student that\u001b[0m\u001b[1;33m\u001b[0m\u001b[1;33m\u001b[0m\u001b[1;33m\u001b[0m\u001b[0m\n\u001b[0;32m      2\u001b[0m \u001b[1;31m#will inherit properties and methods from a class named Person?\u001b[0m\u001b[1;33m\u001b[0m\u001b[1;33m\u001b[0m\u001b[1;33m\u001b[0m\u001b[0m\n\u001b[1;32m----> 3\u001b[1;33m \u001b[1;32mclass\u001b[0m \u001b[0mStudent\u001b[0m \u001b[1;33m(\u001b[0m\u001b[0mPerson\u001b[0m\u001b[1;33m)\u001b[0m\u001b[1;33m:\u001b[0m\u001b[1;33m\u001b[0m\u001b[1;33m\u001b[0m\u001b[0m\n\u001b[0m\u001b[0;32m      4\u001b[0m     \u001b[1;32mpass\u001b[0m\u001b[1;33m\u001b[0m\u001b[1;33m\u001b[0m\u001b[0m\n",
      "\u001b[1;31mNameError\u001b[0m: name 'Person' is not defined"
     ]
    }
   ],
   "source": [
    "#1 What is the correct syntax to create a class named Student that\n",
    "#will inherit properties and methods from a class named Person?\n",
    "class Student (Person):\n",
    "    pass"
   ]
  },
  {
   "cell_type": "code",
   "execution_count": 90,
   "id": "noble-parameter",
   "metadata": {},
   "outputs": [
    {
     "name": "stdout",
     "output_type": "stream",
     "text": [
      "Mike\n"
     ]
    }
   ],
   "source": [
    "#2 We have used the Student class to create an object named x.\n",
    "\n",
    "# What is the correct syntax to execute the printname method of the object x?\n",
    "\n",
    "class Person:\n",
    "    def __init__(self, fname):\n",
    "        self.firstname = fname\n",
    "\n",
    "    def printname(self):\n",
    "        print(self.firstname)\n",
    "\n",
    "class Student(Person):\n",
    "    pass\n",
    "\n",
    "x = Student(\"Mike\")\n",
    "x.printname()"
   ]
  },
  {
   "cell_type": "markdown",
   "id": "civil-enforcement",
   "metadata": {},
   "source": [
    "# Python Module"
   ]
  },
  {
   "cell_type": "code",
   "execution_count": 92,
   "id": "japanese-argument",
   "metadata": {},
   "outputs": [],
   "source": [
    "#1\n",
    "import pandas #my_modulepandas"
   ]
  },
  {
   "cell_type": "code",
   "execution_count": 93,
   "id": "arranged-terry",
   "metadata": {},
   "outputs": [],
   "source": [
    "#2\n",
    "import pandas as pd"
   ]
  },
  {
   "cell_type": "code",
   "execution_count": 94,
   "id": "equivalent-cambridge",
   "metadata": {},
   "outputs": [
    {
     "name": "stdout",
     "output_type": "stream",
     "text": [
      "['BooleanDtype', 'Categorical', 'CategoricalDtype', 'CategoricalIndex', 'DataFrame', 'DateOffset', 'DatetimeIndex', 'DatetimeTZDtype', 'ExcelFile', 'ExcelWriter', 'Flags', 'Float32Dtype', 'Float64Dtype', 'Float64Index', 'Grouper', 'HDFStore', 'Index', 'IndexSlice', 'Int16Dtype', 'Int32Dtype', 'Int64Dtype', 'Int64Index', 'Int8Dtype', 'Interval', 'IntervalDtype', 'IntervalIndex', 'MultiIndex', 'NA', 'NaT', 'NamedAgg', 'Period', 'PeriodDtype', 'PeriodIndex', 'RangeIndex', 'Series', 'SparseDtype', 'StringDtype', 'Timedelta', 'TimedeltaIndex', 'Timestamp', 'UInt16Dtype', 'UInt32Dtype', 'UInt64Dtype', 'UInt64Index', 'UInt8Dtype', '__builtins__', '__cached__', '__doc__', '__docformat__', '__file__', '__getattr__', '__git_version__', '__loader__', '__name__', '__package__', '__path__', '__spec__', '__version__', '_config', '_hashtable', '_is_numpy_dev', '_lib', '_libs', '_np_version_under1p17', '_np_version_under1p18', '_testing', '_tslib', '_typing', '_version', 'api', 'array', 'arrays', 'bdate_range', 'compat', 'concat', 'core', 'crosstab', 'cut', 'date_range', 'describe_option', 'errors', 'eval', 'factorize', 'get_dummies', 'get_option', 'infer_freq', 'interval_range', 'io', 'isna', 'isnull', 'json_normalize', 'lreshape', 'melt', 'merge', 'merge_asof', 'merge_ordered', 'notna', 'notnull', 'offsets', 'option_context', 'options', 'pandas', 'period_range', 'pivot', 'pivot_table', 'plotting', 'qcut', 'read_clipboard', 'read_csv', 'read_excel', 'read_feather', 'read_fwf', 'read_gbq', 'read_hdf', 'read_html', 'read_json', 'read_orc', 'read_parquet', 'read_pickle', 'read_sas', 'read_spss', 'read_sql', 'read_sql_query', 'read_sql_table', 'read_stata', 'read_table', 'reset_option', 'set_eng_float_format', 'set_option', 'show_versions', 'test', 'testing', 'timedelta_range', 'to_datetime', 'to_numeric', 'to_pickle', 'to_timedelta', 'tseries', 'unique', 'util', 'value_counts', 'wide_to_long']\n"
     ]
    }
   ],
   "source": [
    "#3 What is the correct syntax of printing all variables and function names of the \"mymodule\" module?\n",
    "print(dir(pandas))"
   ]
  },
  {
   "cell_type": "code",
   "execution_count": 95,
   "id": "built-photographer",
   "metadata": {},
   "outputs": [],
   "source": [
    "#4 What is the correct syntax of importing only the person1 dictionary of the \"mymodule\" module?\n",
    "from pandas import DataFrame"
   ]
  },
  {
   "cell_type": "markdown",
   "id": "played-company",
   "metadata": {},
   "source": [
    "### SELESAI"
   ]
  }
 ],
 "metadata": {
  "kernelspec": {
   "display_name": "Python 3",
   "language": "python",
   "name": "python3"
  },
  "language_info": {
   "codemirror_mode": {
    "name": "ipython",
    "version": 3
   },
   "file_extension": ".py",
   "mimetype": "text/x-python",
   "name": "python",
   "nbconvert_exporter": "python",
   "pygments_lexer": "ipython3",
   "version": "3.7.9"
  }
 },
 "nbformat": 4,
 "nbformat_minor": 5
}
