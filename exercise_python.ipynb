{
 "cells": [
  {
   "cell_type": "markdown",
   "id": "premium-spencer",
   "metadata": {},
   "source": [
    "## Python Syntax\n"
   ]
  },
  {
   "cell_type": "code",
   "execution_count": 1,
   "id": "coordinate-responsibility",
   "metadata": {},
   "outputs": [
    {
     "name": "stdout",
     "output_type": "stream",
     "text": [
      "Hello World\n"
     ]
    }
   ],
   "source": [
    "#1\n",
    "print(\"Hello World\")\n"
   ]
  },
  {
   "cell_type": "code",
   "execution_count": 2,
   "id": "amber-split",
   "metadata": {},
   "outputs": [
    {
     "name": "stdout",
     "output_type": "stream",
     "text": [
      "Five is greater than two !\n"
     ]
    }
   ],
   "source": [
    "#2\n",
    "if 5 > 2:\n",
    "    print(\"Five is greater than two !\")"
   ]
  },
  {
   "cell_type": "markdown",
   "id": "accomplished-engineer",
   "metadata": {},
   "source": [
    "# Python Coment"
   ]
  },
  {
   "cell_type": "code",
   "execution_count": 3,
   "id": "going-brooks",
   "metadata": {},
   "outputs": [],
   "source": [
    "#1\n",
    "#This is a comment"
   ]
  },
  {
   "cell_type": "code",
   "execution_count": 4,
   "id": "solved-mexico",
   "metadata": {},
   "outputs": [
    {
     "data": {
      "text/plain": [
       "'\\nThis is a comment\\nwritten in \\nmore that just one line\\n'"
      ]
     },
     "execution_count": 4,
     "metadata": {},
     "output_type": "execute_result"
    }
   ],
   "source": [
    "#2\n",
    "\"\"\"\n",
    "This is a comment\n",
    "written in \n",
    "more that just one line\n",
    "\"\"\"\n",
    "\n"
   ]
  },
  {
   "cell_type": "markdown",
   "id": "certain-payday",
   "metadata": {},
   "source": [
    "# Variabel\n"
   ]
  },
  {
   "cell_type": "code",
   "execution_count": 5,
   "id": "conditional-irish",
   "metadata": {},
   "outputs": [],
   "source": [
    "#1\n",
    "carname=\"Volvo\""
   ]
  },
  {
   "cell_type": "code",
   "execution_count": 6,
   "id": "alpine-transformation",
   "metadata": {},
   "outputs": [],
   "source": [
    "#2\n",
    "x=50"
   ]
  },
  {
   "cell_type": "code",
   "execution_count": 7,
   "id": "binding-spirituality",
   "metadata": {},
   "outputs": [
    {
     "name": "stdout",
     "output_type": "stream",
     "text": [
      "15\n"
     ]
    }
   ],
   "source": [
    "#3\n",
    "x=5\n",
    "y=10\n",
    "print(x+y)"
   ]
  },
  {
   "cell_type": "code",
   "execution_count": 8,
   "id": "narrative-complement",
   "metadata": {},
   "outputs": [
    {
     "name": "stdout",
     "output_type": "stream",
     "text": [
      "15\n"
     ]
    }
   ],
   "source": [
    "#4\n",
    "x=5\n",
    "y=10\n",
    "z=x+y\n",
    "print(x+y)"
   ]
  },
  {
   "cell_type": "code",
   "execution_count": 9,
   "id": "southeast-throat",
   "metadata": {},
   "outputs": [],
   "source": [
    "#5\n",
    "myfirst_name = \"John\""
   ]
  },
  {
   "cell_type": "code",
   "execution_count": 10,
   "id": "assured-baseline",
   "metadata": {},
   "outputs": [],
   "source": [
    "#6\n",
    "x=y=z=\"Orange\""
   ]
  },
  {
   "cell_type": "code",
   "execution_count": 11,
   "id": "possible-scratch",
   "metadata": {},
   "outputs": [],
   "source": [
    "#7\n",
    "def myfunc():\n",
    "    global x\n",
    "    x=fantastic"
   ]
  },
  {
   "cell_type": "markdown",
   "id": "favorite-statement",
   "metadata": {},
   "source": [
    "# Data Type"
   ]
  },
  {
   "cell_type": "code",
   "execution_count": 12,
   "id": "growing-veteran",
   "metadata": {},
   "outputs": [
    {
     "name": "stdout",
     "output_type": "stream",
     "text": [
      "<class 'int'>\n"
     ]
    }
   ],
   "source": [
    "#1\n",
    "x = 5\n",
    "print(type(x))"
   ]
  },
  {
   "cell_type": "code",
   "execution_count": 13,
   "id": "saved-hungarian",
   "metadata": {},
   "outputs": [
    {
     "name": "stdout",
     "output_type": "stream",
     "text": [
      "<class 'str'>\n"
     ]
    }
   ],
   "source": [
    "#2\n",
    "x = \"Hello World\"\n",
    "print(type(x))"
   ]
  },
  {
   "cell_type": "code",
   "execution_count": 14,
   "id": "introductory-audio",
   "metadata": {},
   "outputs": [
    {
     "name": "stdout",
     "output_type": "stream",
     "text": [
      "<class 'float'>\n"
     ]
    }
   ],
   "source": [
    "#3\n",
    "x = 20.5\n",
    "print(type(x))"
   ]
  },
  {
   "cell_type": "code",
   "execution_count": 15,
   "id": "competitive-courage",
   "metadata": {},
   "outputs": [
    {
     "name": "stdout",
     "output_type": "stream",
     "text": [
      "<class 'list'>\n"
     ]
    }
   ],
   "source": [
    "#4\n",
    "x = [\"apple\", \"banana\", \"cherry\"]\n",
    "print(type(x))"
   ]
  },
  {
   "cell_type": "code",
   "execution_count": 16,
   "id": "fewer-painting",
   "metadata": {},
   "outputs": [
    {
     "name": "stdout",
     "output_type": "stream",
     "text": [
      "<class 'tuple'>\n"
     ]
    }
   ],
   "source": [
    "#5\n",
    "x = (\"apple\", \"banana\", \"cherry\")\n",
    "print(type(x))"
   ]
  },
  {
   "cell_type": "code",
   "execution_count": 17,
   "id": "chemical-program",
   "metadata": {},
   "outputs": [
    {
     "name": "stdout",
     "output_type": "stream",
     "text": [
      "<class 'dict'>\n"
     ]
    }
   ],
   "source": [
    "#6\n",
    "x = {\"name\" : \"John\", \"age\" : 36}\n",
    "print(type(x))"
   ]
  },
  {
   "cell_type": "code",
   "execution_count": 18,
   "id": "congressional-joining",
   "metadata": {},
   "outputs": [
    {
     "name": "stdout",
     "output_type": "stream",
     "text": [
      "<class 'bool'>\n"
     ]
    }
   ],
   "source": [
    "#7\n",
    "x = True\n",
    "print(type(x))"
   ]
  },
  {
   "cell_type": "markdown",
   "id": "motivated-trigger",
   "metadata": {},
   "source": [
    "# Python Numbers"
   ]
  },
  {
   "cell_type": "code",
   "execution_count": 19,
   "id": "detailed-diameter",
   "metadata": {},
   "outputs": [],
   "source": [
    "x = 5\n",
    "x = float(x)"
   ]
  },
  {
   "cell_type": "code",
   "execution_count": 20,
   "id": "respective-topic",
   "metadata": {},
   "outputs": [],
   "source": [
    "x = 5\n",
    "x = int(x)"
   ]
  },
  {
   "cell_type": "code",
   "execution_count": 21,
   "id": "advisory-walnut",
   "metadata": {},
   "outputs": [],
   "source": [
    "x = 5\n",
    "x = complex(x)"
   ]
  },
  {
   "cell_type": "markdown",
   "id": "occasional-lobby",
   "metadata": {},
   "source": [
    "# Python Strings"
   ]
  },
  {
   "cell_type": "code",
   "execution_count": 22,
   "id": "seeing-cattle",
   "metadata": {},
   "outputs": [
    {
     "name": "stdout",
     "output_type": "stream",
     "text": [
      "11\n"
     ]
    }
   ],
   "source": [
    "#1\n",
    "x = \"Hello World\"\n",
    "print(len(x))"
   ]
  },
  {
   "cell_type": "code",
   "execution_count": 23,
   "id": "familiar-platform",
   "metadata": {},
   "outputs": [
    {
     "data": {
      "text/plain": [
       "'H'"
      ]
     },
     "execution_count": 23,
     "metadata": {},
     "output_type": "execute_result"
    }
   ],
   "source": [
    "#2\n",
    "txt = \"Hello World\"\n",
    "x = txt[0]\n",
    "x"
   ]
  },
  {
   "cell_type": "code",
   "execution_count": 24,
   "id": "pursuant-friendship",
   "metadata": {},
   "outputs": [
    {
     "data": {
      "text/plain": [
       "'llo'"
      ]
     },
     "execution_count": 24,
     "metadata": {},
     "output_type": "execute_result"
    }
   ],
   "source": [
    "#3 Get the characters from index 2 to index 4 (llo).\n",
    "txt = \"Hello World\"\n",
    "x = txt[2:5]\n",
    "x"
   ]
  },
  {
   "cell_type": "code",
   "execution_count": 25,
   "id": "nasty-strap",
   "metadata": {},
   "outputs": [
    {
     "data": {
      "text/plain": [
       "'Hello World'"
      ]
     },
     "execution_count": 25,
     "metadata": {},
     "output_type": "execute_result"
    }
   ],
   "source": [
    "#4 Return the string without any whitespace at the beginning or the end.\n",
    "txt =\"Hello World\"\n",
    "x = txt.strip()\n",
    "x"
   ]
  },
  {
   "cell_type": "code",
   "execution_count": 26,
   "id": "operational-boating",
   "metadata": {},
   "outputs": [
    {
     "data": {
      "text/plain": [
       "'HELLO WORLD'"
      ]
     },
     "execution_count": 26,
     "metadata": {},
     "output_type": "execute_result"
    }
   ],
   "source": [
    "#5 Convert the value of txt to upper case.\n",
    "txt = \"Hello World\"\n",
    "x = txt.upper()\n",
    "x"
   ]
  },
  {
   "cell_type": "code",
   "execution_count": 27,
   "id": "falling-charlotte",
   "metadata": {},
   "outputs": [
    {
     "data": {
      "text/plain": [
       "'hello world'"
      ]
     },
     "execution_count": 27,
     "metadata": {},
     "output_type": "execute_result"
    }
   ],
   "source": [
    "#6 Convert the value of txt to lower case.\n",
    "txt = \"Hello World\"\n",
    "x = txt.lower()\n",
    "x"
   ]
  },
  {
   "cell_type": "code",
   "execution_count": 28,
   "id": "extra-glass",
   "metadata": {},
   "outputs": [
    {
     "data": {
      "text/plain": [
       "'Jello World'"
      ]
     },
     "execution_count": 28,
     "metadata": {},
     "output_type": "execute_result"
    }
   ],
   "source": [
    "#7 Replace the character H with a J.\n",
    "txt = \"Hello World\"\n",
    "x = txt.replace(\"H\",\"J\")\n",
    "x"
   ]
  },
  {
   "cell_type": "code",
   "execution_count": 29,
   "id": "collect-lightweight",
   "metadata": {},
   "outputs": [
    {
     "name": "stdout",
     "output_type": "stream",
     "text": [
      "my name is Jhon, and I am 39\n"
     ]
    }
   ],
   "source": [
    "#8 Insert the correct syntax to add a placeholder for the age paramet\n",
    "age = 39\n",
    "txt = \"my name is Jhon, and I am {}\"\n",
    "print(txt.format(age))"
   ]
  },
  {
   "cell_type": "markdown",
   "id": "impossible-choir",
   "metadata": {},
   "source": [
    "# Python Bolean"
   ]
  },
  {
   "cell_type": "code",
   "execution_count": 30,
   "id": "bizarre-burton",
   "metadata": {},
   "outputs": [
    {
     "name": "stdout",
     "output_type": "stream",
     "text": [
      "True\n"
     ]
    }
   ],
   "source": [
    "#1 The statement below would print a Boolean value, which one?\n",
    "print(10 > 9)"
   ]
  },
  {
   "cell_type": "code",
   "execution_count": 31,
   "id": "ethical-aruba",
   "metadata": {},
   "outputs": [
    {
     "name": "stdout",
     "output_type": "stream",
     "text": [
      "False\n"
     ]
    }
   ],
   "source": [
    "#2 The statement below would print a Boolean value, which one?\n",
    "print(10 == 9)"
   ]
  },
  {
   "cell_type": "code",
   "execution_count": 32,
   "id": "democratic-february",
   "metadata": {},
   "outputs": [
    {
     "name": "stdout",
     "output_type": "stream",
     "text": [
      "False\n"
     ]
    }
   ],
   "source": [
    "#3 The statement below would print a Boolean value, which one?\n",
    "print(10 < 9)"
   ]
  },
  {
   "cell_type": "code",
   "execution_count": 33,
   "id": "completed-quantum",
   "metadata": {},
   "outputs": [
    {
     "name": "stdout",
     "output_type": "stream",
     "text": [
      "True\n"
     ]
    }
   ],
   "source": [
    "#4 The statement below would print a Boolean value, which one?\n",
    "print(bool(\"abc\"))"
   ]
  },
  {
   "cell_type": "code",
   "execution_count": 34,
   "id": "fabulous-grass",
   "metadata": {},
   "outputs": [
    {
     "name": "stdout",
     "output_type": "stream",
     "text": [
      "False\n"
     ]
    }
   ],
   "source": [
    "#5 The statement below would print a Boolean value, which one?\n",
    "print(bool(0))"
   ]
  }
 ],
 "metadata": {
  "kernelspec": {
   "display_name": "Python 3",
   "language": "python",
   "name": "python3"
  },
  "language_info": {
   "codemirror_mode": {
    "name": "ipython",
    "version": 3
   },
   "file_extension": ".py",
   "mimetype": "text/x-python",
   "name": "python",
   "nbconvert_exporter": "python",
   "pygments_lexer": "ipython3",
   "version": "3.7.9"
  }
 },
 "nbformat": 4,
 "nbformat_minor": 5
}
